{
 "cells": [
  {
   "cell_type": "markdown",
   "metadata": {},
   "source": [
    "<h1>Cómo añadir nuevos elementos al documento</h1>\n",
    "Podemos utilizar  document.createElement() para añadir nuevos elementos al árbol del DOM."
   ]
  },
  {
   "cell_type": "code",
   "execution_count": null,
   "metadata": {
    "vscode": {
     "languageId": "html"
    }
   },
   "outputs": [],
   "source": [
    "<h1>Razones por las que me encanta JS:</h1>"
   ]
  },
  {
   "cell_type": "markdown",
   "metadata": {},
   "source": [
    "Ahora mismo, solo tengo una etiqueta < h1 > en la página. Pero quiero añadir una lista de razones por las que me gusta freeCodeCamp debajo de esa etiqueta < h1 > utilizando JavaScript.\n",
    "\n",
    "Primero podemos crear un elemento < ul > usando <code>document.createElement().</code> Lo asignaré a una variable llamada <code>listaDesordenada`</code>."
   ]
  },
  {
   "cell_type": "code",
   "execution_count": null,
   "metadata": {
    "vscode": {
     "languageId": "javascript"
    }
   },
   "outputs": [],
   "source": [
    "let listaDesordenada = document.createElement(\"ul\");"
   ]
  },
  {
   "cell_type": "markdown",
   "metadata": {},
   "source": [
    "Luego tenemos que añadir ese elemento < ul > al documento utilizando el método <code>appendChild().</code>"
   ]
  },
  {
   "cell_type": "code",
   "execution_count": null,
   "metadata": {
    "vscode": {
     "languageId": "javascript"
    }
   },
   "outputs": [],
   "source": [
    "document.body.appendChild(listaDesordenada);"
   ]
  },
  {
   "cell_type": "markdown",
   "metadata": {},
   "source": [
    "La siguiente parte es añadir un par de elementos < li > dentro del elemento < ul > utilizando el método <code>createElement().</code>"
   ]
  },
  {
   "cell_type": "code",
   "execution_count": null,
   "metadata": {
    "vscode": {
     "languageId": "javascript"
    }
   },
   "outputs": [],
   "source": [
    "let listaElemento1 = document.createElement(\"li\");\n",
    "\n",
    "let listaElemento2 = document.createElement(\"li\");"
   ]
  },
  {
   "cell_type": "markdown",
   "metadata": {},
   "source": [
    "Luego podemos utilizar la propiedad textContent para añadir el texto de nuestros elementos de la lista."
   ]
  },
  {
   "cell_type": "code",
   "execution_count": null,
   "metadata": {
    "vscode": {
     "languageId": "javascript"
    }
   },
   "outputs": [],
   "source": [
    "let listaElemento1 = document.createElement(\"li\");\n",
    "listaElemento1.textContent = \"Es gratis\";\n",
    "\n",
    "let listaElemento2 = document.createElement(\"li\");\n",
    "listaElemento2.textContent = \"Es impresionante\";"
   ]
  },
  {
   "cell_type": "markdown",
   "metadata": {},
   "source": [
    "La última parte es utilizar el método <code>appendChild()</code> para que los elementos de la lista se añadan a la lista desordenada."
   ]
  },
  {
   "cell_type": "code",
   "execution_count": null,
   "metadata": {
    "vscode": {
     "languageId": "javascript"
    }
   },
   "outputs": [],
   "source": [
    "let listaElemento1 = document.createElement(\"li\");\n",
    "listaElemento1.textContent = \"Es gratis\";\n",
    "listaDesordenada.appendChild(listaElemento1);\n",
    "\n",
    "let listaElemento2 = document.createElement(\"li\");\n",
    "listaElemento2.textContent = \"Es impresionante\";\n",
    "listaDesordenada.appendChild(listaElemento2);"
   ]
  },
  {
   "cell_type": "markdown",
   "metadata": {},
   "source": [
    "Este es el resultado de todo el código."
   ]
  },
  {
   "cell_type": "code",
   "execution_count": null,
   "metadata": {
    "vscode": {
     "languageId": "javascript"
    }
   },
   "outputs": [],
   "source": [
    "let listaDesordenada = document.createElement(\"ul\");\n",
    "document.body.appendChild(listaDesordenada);\n",
    "\n",
    "let listaElemento1 = document.createElement(\"li\");\n",
    "listaElemento1.textContent = \"Es gratis\";\n",
    "listaDesordenada.appendChild(listaElemento1);\n",
    "\n",
    "let listaElemento2 = document.createElement(\"li\");\n",
    "listaElemento2.textContent = \"Es impresionante\";\n",
    "listaDesordenada.appendChild(listaElemento2);"
   ]
  }
 ],
 "metadata": {
  "language_info": {
   "name": "python"
  }
 },
 "nbformat": 4,
 "nbformat_minor": 2
}
