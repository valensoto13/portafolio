{
 "cells": [
  {
   "cell_type": "markdown",
   "metadata": {},
   "source": [
    "<h3>Cómo utilizar la propiedad Style para cambiar los estilos CSS en línea</h3>\n",
    "La propiedad style le da la capacidad de cambiar el CSS en su documento HTML.\n",
    "\n",
    "En este ejemplo, vamos a cambiar el texto h1 de negro a azul utilizando la propiedad style.\n",
    "\n",
    "Aquí está nuestro HTML."
   ]
  },
  {
   "cell_type": "code",
   "execution_count": null,
   "metadata": {
    "vscode": {
     "languageId": "html"
    }
   },
   "outputs": [],
   "source": [
    "<h1>Me cambiaron al color azul utilizando JavaScript</h1>"
   ]
  },
  {
   "cell_type": "markdown",
   "metadata": {},
   "source": [
    "Primero tenemos que tomar la etiqueta h1 utilizando el método <code>querySelector().</code>"
   ]
  },
  {
   "cell_type": "code",
   "execution_count": null,
   "metadata": {
    "vscode": {
     "languageId": "javascript"
    }
   },
   "outputs": [],
   "source": [
    "const h1 = document.querySelector(\"h1\");\n",
    "h1.style.color = \"blue\";"
   ]
  },
  {
   "cell_type": "markdown",
   "metadata": {},
   "source": [
    "Puede utilizar esta propiedad style para cambiar una serie de estilos CSS en línea incluyendo el <code>background-color, border-style, font-size</code> y más."
   ]
  },
  {
   "cell_type": "markdown",
   "metadata": {},
   "source": [
    "<br><hr>\n",
    "<h3>Cómo agregar/eliminar una clase css con el método <code>add() / remove()</code></h3>\n",
    "Retomando el punto anterior, vamos a poner en práctica el método utilizado para añadir una clase a una etiqueta html.\n"
   ]
  },
  {
   "cell_type": "code",
   "execution_count": null,
   "metadata": {
    "vscode": {
     "languageId": "javascript"
    }
   },
   "outputs": [],
   "source": [
    "const h1 = document.querySelector(\"h1\");\n",
    "h1.classList.add('mi-clase')\n",
    "console.log(h1.classList)"
   ]
  },
  {
   "cell_type": "markdown",
   "metadata": {},
   "source": [
    "Utilizando la consola, podremos visualizar que se ha agregado la clase <code>mi-clase</code> a la etiqueta H1\n",
    "<br>\n",
    "Por otro lado, en el caso en que requiera remover una clase podremos utilizar de manera similar el método <code>remove()</code>\n"
   ]
  },
  {
   "cell_type": "code",
   "execution_count": null,
   "metadata": {
    "vscode": {
     "languageId": "javascript"
    }
   },
   "outputs": [],
   "source": [
    "<h1 class=\"color-rojo\">Me quitaron el color rojo utilizando JavaScript</h1>"
   ]
  },
  {
   "cell_type": "code",
   "execution_count": null,
   "metadata": {
    "vscode": {
     "languageId": "javascript"
    }
   },
   "outputs": [],
   "source": [
    "const h1 = document.querySelector(\"h1\");\n",
    "h1.classList.remove('color-rojo')\n",
    "console.log(h1.classList)"
   ]
  },
  {
   "cell_type": "markdown",
   "metadata": {},
   "source": [
    "<br><hr>\n",
    "<h3>Cómo usar <code>addEventListener()</code> para escuchar eventos en la página</h3>\n",
    "Este método le permite añadir un evento a un elemento HTML como un botón.\n",
    "\n",
    "En este ejemplo, cuando el usuario haga clic en el botón, aparecerá un mensaje de alerta.\n",
    "\n",
    "En nuestro HTML, tenemos un elemento button con el <code>id</code> de <code>btn.</code>"
   ]
  },
  {
   "cell_type": "code",
   "execution_count": null,
   "metadata": {
    "vscode": {
     "languageId": "html"
    }
   },
   "outputs": [],
   "source": [
    "<button id=\"btn\">Mostrar alerta</button>"
   ]
  },
  {
   "cell_type": "markdown",
   "metadata": {},
   "source": [
    "Podemos apuntar a ese elemento en nuestro JavaScript usando el método <code>getElementById()</code> y asignándolo a la variable llamada <code>boton</code>`."
   ]
  },
  {
   "cell_type": "code",
   "execution_count": null,
   "metadata": {
    "vscode": {
     "languageId": "javascript"
    }
   },
   "outputs": [],
   "source": [
    "const boton = document.getElementById(\"btn\");"
   ]
  },
  {
   "cell_type": "markdown",
   "metadata": {},
   "source": [
    "La función <code>addEventListener()</code> toma un tipo de evento y una función. El tipo de evento será un evento click y la función activará el mensaje de alerta.\n",
    "\n",
    "Este es el código para añadir el evento que escucha a la variable <code>boton</code>."
   ]
  },
  {
   "cell_type": "code",
   "execution_count": null,
   "metadata": {
    "vscode": {
     "languageId": "javascript"
    }
   },
   "outputs": [],
   "source": [
    "boton.addEventListener(\"click\", () => {\n",
    "    alert(\"Gracias por hacer clic en mí\");\n",
    "  });"
   ]
  }
 ],
 "metadata": {
  "language_info": {
   "name": "python"
  }
 },
 "nbformat": 4,
 "nbformat_minor": 2
}
