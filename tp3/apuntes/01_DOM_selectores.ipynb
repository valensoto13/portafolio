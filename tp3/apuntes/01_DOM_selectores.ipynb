{
 "cells": [
  {
   "cell_type": "markdown",
   "metadata": {
    "vscode": {
     "languageId": "html"
    }
   },
   "source": [
    "<h1>¿Qué es el DOM? El significado del modelo de objeto de documento en JavaScript</h1>\n",
    "<p>\n",
    "DOM son las siglas de Document Object Model. Es una interfaz de programación que nos permite crear, cambiar o eliminar elementos del documento. También podemos añadir eventos a estos elementos para hacer nuestra página más dinámica.\n",
    "<br>\n",
    "El DOM visualiza el documento HTML como un árbol de nodos. Un nodo representa un elemento HTML.\n",
    "</p>"
   ]
  },
  {
   "cell_type": "code",
   "execution_count": null,
   "metadata": {
    "vscode": {
     "languageId": "html"
    }
   },
   "outputs": [],
   "source": [
    "<!DOCTYPE html>\n",
    "<html lang=\"en\">\n",
    "  <head>\n",
    "    <meta charset=\"UTF-8\">\n",
    "    <meta name=\"viewport\" content=\"width=device-width, initial-scale=1.0\">\n",
    "    <meta http-equiv=\"X-UA-Compatible\" content=\"ie=edge\">\n",
    "    <title>Estructura de arbol del DOM</title>\n",
    "  </head>\n",
    "  <body>\n",
    "    <h1>Estructura de árbol del DOM</h1>\n",
    "    <h2>Aprender sobre el DOM.</h2>\n",
    "  </body>\n",
    "</html>"
   ]
  },
  {
   "cell_type": "markdown",
   "metadata": {},
   "source": [
    "Nuestro documento se llama nodo raíz y contiene un nodo hijo que es el elemento HTML. El elemento HTML contiene dos hijos que son los elementos HEAD y BODY.\n",
    "<br>\n",
    "Tanto el elemento HEAD como el elemento BODY tienen hijos propios.\n",
    "<br>\n",
    "Podemos acceder a estos elementos en el documento y hacer cambios en ellos usando JavaScript."
   ]
  },
  {
   "cell_type": "markdown",
   "metadata": {},
   "source": [
    "<h2>Cómo seleccionar elementos en el documento</h2>\n",
    "Hay varios métodos distintos para seleccionar un elemento en el documento HTML.\n",
    "<br>\n",
    "En este artículo, nos centraremos en tres de esos métodos:\n",
    "<br>\n",
    "<pre>getElementById()\n",
    "querySelector()\n",
    "querySelectorAll()\n",
    "</pre>\n",
    "<br>\n",
    "<h3>getElementById()</h3>\n",
    "<p>En el HTML, los id se utilizan como identificadores únicos para los elementos HTML. Esto significa que no se puede tener el mismo nombre del id para dos elementos diferentes.\n",
    "<br>\n",
    "Esto sería incorrecto:"
   ]
  },
  {
   "cell_type": "code",
   "execution_count": null,
   "metadata": {
    "vscode": {
     "languageId": "html"
    }
   },
   "outputs": [],
   "source": [
    "<p id=\"para\">Este es mi primer párrafo.</p>\n",
    "<p id=\"para\">Este es mi segundo párrafo.</p>"
   ]
  },
  {
   "cell_type": "markdown",
   "metadata": {},
   "source": [
    "Tendrías que asegurarte de que esos ids son únicos, como este:"
   ]
  },
  {
   "cell_type": "code",
   "execution_count": null,
   "metadata": {
    "vscode": {
     "languageId": "html"
    }
   },
   "outputs": [],
   "source": [
    "<p id=\"para1\">Este es mi primer párrafo.</p>\n",
    "<p id=\"para2\">Este es mi segundo párrafo.</p>"
   ]
  },
  {
   "cell_type": "markdown",
   "metadata": {
    "vscode": {
     "languageId": "html"
    }
   },
   "source": [
    "En JavaScript, podemos tomar una etiqueta HTML haciendo referencia al nombre del id."
   ]
  },
  {
   "cell_type": "code",
   "execution_count": null,
   "metadata": {
    "vscode": {
     "languageId": "javascript"
    }
   },
   "outputs": [],
   "source": [
    "document.getElementById(\"el nombre del id va aquí\")"
   ]
  },
  {
   "cell_type": "markdown",
   "metadata": {},
   "source": [
    "Este código le dice a la computadora que obtenga el elemento <code>< p ></code> con el id de para1 e imprima el elemento en la consola."
   ]
  },
  {
   "cell_type": "code",
   "execution_count": null,
   "metadata": {
    "vscode": {
     "languageId": "javascript"
    }
   },
   "outputs": [],
   "source": [
    "const parrafo1 = document.getElementById(\"para1\");\n",
    "console.log(parrafo1);"
   ]
  },
  {
   "cell_type": "code",
   "execution_count": null,
   "metadata": {
    "vscode": {
     "languageId": "javascript"
    }
   },
   "outputs": [],
   "source": [
    "<p id=\"para1\">Este es mi primer párrafo.</p>"
   ]
  },
  {
   "cell_type": "markdown",
   "metadata": {},
   "source": [
    "Si quisiéramos solo leer el contenido del párrafo, entonces podemos utilizar la propiedad textContent dentro del console.log()."
   ]
  },
  {
   "cell_type": "code",
   "execution_count": null,
   "metadata": {
    "vscode": {
     "languageId": "javascript"
    }
   },
   "outputs": [],
   "source": [
    "const parrafo1 = document.getElementById(\"para1\");\n",
    "console.log(parrafo1.textContent);"
   ]
  },
  {
   "cell_type": "code",
   "execution_count": null,
   "metadata": {
    "vscode": {
     "languageId": "javascript"
    }
   },
   "outputs": [],
   "source": [
    "\"Este es mi primer párrafo.\""
   ]
  },
  {
   "cell_type": "markdown",
   "metadata": {},
   "source": [
    "<h3>querySelector()</h3>\n",
    "Puedes utilizar este método para encontrar elementos con uno o más selectores CSS."
   ]
  },
  {
   "cell_type": "code",
   "execution_count": null,
   "metadata": {
    "vscode": {
     "languageId": "html"
    }
   },
   "outputs": [],
   "source": [
    "<h1>Programas de televisión favoritos</h1>\n",
    "<ul class=\"list\">\n",
    "  <li>Golden Girls</li>\n",
    "  <li>Archer</li>\n",
    "  <li>Rick and Morty</li>\n",
    "  <li>The Crown</li>\n",
    "</ul>"
   ]
  },
  {
   "cell_type": "markdown",
   "metadata": {},
   "source": [
    "<h3>querySelectorAll()</h3>\n",
    "Este método encuentra todos los elementos que coinciden con el selector CSS y devuelve una lista de todos esos nodos.\n",
    "<br>\n",
    "Si quisiera encontrar todos los elementos <code>< li ></code> en nuestro ejemplo, podría utilizar el combinador \"mayor\" para encontrar todos los hijos del<code>< ul ></code>."
   ]
  },
  {
   "cell_type": "code",
   "execution_count": null,
   "metadata": {
    "vscode": {
     "languageId": "javascript"
    }
   },
   "outputs": [],
   "source": [
    "const listaElementos = document.querySelectorAll(\"ul > li\");\n",
    "console.log(listaElementos); "
   ]
  },
  {
   "cell_type": "markdown",
   "metadata": {},
   "source": [
    "Si quisiéramos imprimir los elementos < li > con los programas de televisión, podemos utilizar un <code>forEach()</code> para hacer un bucle sobre el NodeList e imprimir cada elemento."
   ]
  },
  {
   "cell_type": "code",
   "execution_count": null,
   "metadata": {
    "vscode": {
     "languageId": "javascript"
    }
   },
   "outputs": [],
   "source": [
    "const listaElementos = document.querySelectorAll(\"ul > li\");\n",
    "\n",
    "listaElementos.forEach((elemento) => {\n",
    "  console.log(elemento);\n",
    "});"
   ]
  }
 ],
 "metadata": {
  "language_info": {
   "name": "python"
  }
 },
 "nbformat": 4,
 "nbformat_minor": 2
}
